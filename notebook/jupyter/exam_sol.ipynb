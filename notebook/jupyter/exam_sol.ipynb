{
 "cells": [
  {
   "cell_type": "code",
   "execution_count": 1,
   "metadata": {},
   "outputs": [],
   "source": [
    "import pandas as pd # table (data frame)\n",
    "import numpy as np # array\n",
    "\n",
    "import scipy.stats as stats\n",
    "import statsmodels \n",
    "import matplotlib.pyplot as plt\n",
    "import math\n",
    "from pprint import pprint\n",
    "plt.style.use('seaborn-darkgrid')\n"
   ]
  },
  {
   "cell_type": "markdown",
   "metadata": {},
   "source": [
    "# Exam \n",
    "These cells should be executed in order"
   ]
  },
  {
   "cell_type": "markdown",
   "metadata": {},
   "source": [
    "## Problem 1"
   ]
  },
  {
   "cell_type": "code",
   "execution_count": 2,
   "metadata": {},
   "outputs": [
    {
     "data": {
      "text/html": [
       "<div>\n",
       "<style scoped>\n",
       "    .dataframe tbody tr th:only-of-type {\n",
       "        vertical-align: middle;\n",
       "    }\n",
       "\n",
       "    .dataframe tbody tr th {\n",
       "        vertical-align: top;\n",
       "    }\n",
       "\n",
       "    .dataframe thead th {\n",
       "        text-align: right;\n",
       "    }\n",
       "</style>\n",
       "<table border=\"1\" class=\"dataframe\">\n",
       "  <thead>\n",
       "    <tr style=\"text-align: right;\">\n",
       "      <th></th>\n",
       "      <th>x_1</th>\n",
       "      <th>x_2</th>\n",
       "      <th>x_3</th>\n",
       "      <th>x_4</th>\n",
       "      <th>x_5</th>\n",
       "    </tr>\n",
       "  </thead>\n",
       "  <tbody>\n",
       "    <tr>\n",
       "      <th>count</th>\n",
       "      <td>1722.000000</td>\n",
       "      <td>1722.000000</td>\n",
       "      <td>1722.000000</td>\n",
       "      <td>1722.000000</td>\n",
       "      <td>1722.000000</td>\n",
       "    </tr>\n",
       "    <tr>\n",
       "      <th>mean</th>\n",
       "      <td>1.778804</td>\n",
       "      <td>4.011732</td>\n",
       "      <td>2.483685</td>\n",
       "      <td>9.980265</td>\n",
       "      <td>0.779326</td>\n",
       "    </tr>\n",
       "    <tr>\n",
       "      <th>std</th>\n",
       "      <td>2.076959</td>\n",
       "      <td>1.678924</td>\n",
       "      <td>0.972443</td>\n",
       "      <td>4.495523</td>\n",
       "      <td>0.414821</td>\n",
       "    </tr>\n",
       "    <tr>\n",
       "      <th>min</th>\n",
       "      <td>-5.864541</td>\n",
       "      <td>-1.421232</td>\n",
       "      <td>-0.775178</td>\n",
       "      <td>1.043870</td>\n",
       "      <td>0.000000</td>\n",
       "    </tr>\n",
       "    <tr>\n",
       "      <th>25%</th>\n",
       "      <td>0.404845</td>\n",
       "      <td>2.865579</td>\n",
       "      <td>1.836651</td>\n",
       "      <td>6.557236</td>\n",
       "      <td>1.000000</td>\n",
       "    </tr>\n",
       "    <tr>\n",
       "      <th>50%</th>\n",
       "      <td>1.762989</td>\n",
       "      <td>3.968334</td>\n",
       "      <td>2.461202</td>\n",
       "      <td>9.239174</td>\n",
       "      <td>1.000000</td>\n",
       "    </tr>\n",
       "    <tr>\n",
       "      <th>75%</th>\n",
       "      <td>3.166382</td>\n",
       "      <td>5.129624</td>\n",
       "      <td>3.147620</td>\n",
       "      <td>12.497966</td>\n",
       "      <td>1.000000</td>\n",
       "    </tr>\n",
       "    <tr>\n",
       "      <th>max</th>\n",
       "      <td>8.819015</td>\n",
       "      <td>12.258041</td>\n",
       "      <td>6.234784</td>\n",
       "      <td>30.767951</td>\n",
       "      <td>1.000000</td>\n",
       "    </tr>\n",
       "  </tbody>\n",
       "</table>\n",
       "</div>"
      ],
      "text/plain": [
       "               x_1          x_2          x_3          x_4          x_5\n",
       "count  1722.000000  1722.000000  1722.000000  1722.000000  1722.000000\n",
       "mean      1.778804     4.011732     2.483685     9.980265     0.779326\n",
       "std       2.076959     1.678924     0.972443     4.495523     0.414821\n",
       "min      -5.864541    -1.421232    -0.775178     1.043870     0.000000\n",
       "25%       0.404845     2.865579     1.836651     6.557236     1.000000\n",
       "50%       1.762989     3.968334     2.461202     9.239174     1.000000\n",
       "75%       3.166382     5.129624     3.147620    12.497966     1.000000\n",
       "max       8.819015    12.258041     6.234784    30.767951     1.000000"
      ]
     },
     "execution_count": 2,
     "metadata": {},
     "output_type": "execute_result"
    }
   ],
   "source": [
    "# You should already have the code for this problem from the practice exercises and assignment 1 \n",
    "data1 = pd.read_csv(\"problem1.csv\")\n",
    "data1.describe()"
   ]
  },
  {
   "cell_type": "markdown",
   "metadata": {},
   "source": [
    "### Question 1.1: centrality"
   ]
  },
  {
   "cell_type": "code",
   "execution_count": 3,
   "metadata": {},
   "outputs": [
    {
     "name": "stdout",
     "output_type": "stream",
     "text": [
      "For example, the sample mean 4.0117318924569\n",
      "This is equivalent to np.mean(data1.x_2) 4.0117318924569005\n"
     ]
    }
   ],
   "source": [
    "mean_2 = sum(data1.x_2)/data1.x_2.size\n",
    "print(\"For example, the sample mean\", mean_2)\n",
    "print(\"This is equivalent to np.mean(data1.x_2)\", np.mean(data1.x_2))"
   ]
  },
  {
   "cell_type": "markdown",
   "metadata": {},
   "source": [
    "### Question 1.2: dispersion"
   ]
  },
  {
   "cell_type": "code",
   "execution_count": 4,
   "metadata": {},
   "outputs": [
    {
     "name": "stdout",
     "output_type": "stream",
     "text": [
      "For example, the (unbiased) sample standard deviation 2.076958917249583\n",
      "This is equivalent to np.std(data1.x_1, ddof=1) 2.076958917249583\n"
     ]
    }
   ],
   "source": [
    "mean_1 = sum(data1.x_1)/data1.x_1.size\n",
    "std_1 = np.sqrt(sum((data1.x_1-mean_1)**2)/(data1.x_1.size-1))\n",
    "print(\"For example, the (unbiased) sample standard deviation\", std_1)\n",
    "print(\"This is equivalent to np.std(data1.x_1, ddof=1)\", np.std(data1.x_1, ddof=1))"
   ]
  },
  {
   "cell_type": "markdown",
   "metadata": {},
   "source": [
    "### Question 1.3: dependence"
   ]
  },
  {
   "cell_type": "code",
   "execution_count": 5,
   "metadata": {},
   "outputs": [
    {
     "name": "stdout",
     "output_type": "stream",
     "text": [
      "For example, the covariance 2.555869 or the correlation 0.732959\n",
      "This is equivalent to np.cov(data1.x_1, data1.x_2, ddof=1)[0,1] (2.555869) and np.corrcoef(data1.x_1, data1.x_2)[0,1] (0.732959), respectively\n"
     ]
    }
   ],
   "source": [
    "N, d = data1.shape\n",
    "std_2 = np.sqrt(sum((data1.x_2-mean_2)**2)/(data1.x_2.size-1))\n",
    "cov = sum((data1.x_1-mean_1)*(data1.x_2-mean_2))/(N-1)\n",
    "corr = cov/(std_1*std_2)\n",
    "print(\"For example, the covariance %f or the correlation %f\"% (cov, corr))\n",
    "print(\"This is equivalent to np.cov(data1.x_1, data1.x_2, ddof=1)[0,1] (%f) and np.corrcoef(data1.x_1, data1.x_2)[0,1] (%f), respectively\"%(np.cov(data1.x_1, data1.x_2, ddof=1)[0,1], np.corrcoef(data1.x_1, data1.x_2)[0,1]))"
   ]
  },
  {
   "cell_type": "markdown",
   "metadata": {},
   "source": [
    "### Question 1.4: data quantile"
   ]
  },
  {
   "cell_type": "code",
   "execution_count": 6,
   "metadata": {},
   "outputs": [
    {
     "name": "stdout",
     "output_type": "stream",
     "text": [
      "0.3-quantile: 1.9626764948788067\n",
      "This is equivalent to np.quantile(data1.x_3, p, interpolation='higher') 1.9626764948788067\n"
     ]
    }
   ],
   "source": [
    "def quantile(data, p):\n",
    "    return np.sort(data)[np.ceil(p*N).astype(int)]\n",
    "p = 0.3\n",
    "# It is also fine to use other interpolation method\n",
    "print(\"0.3-quantile:\", quantile(data1.x_3, p))\n",
    "print(\"This is equivalent to np.quantile(data1.x_3, p, interpolation='higher')\", \n",
    "      np.quantile(data1.x_3, p, interpolation=\"higher\"))"
   ]
  },
  {
   "cell_type": "markdown",
   "metadata": {},
   "source": [
    "### Question 1.5: probabilitic model"
   ]
  },
  {
   "cell_type": "code",
   "execution_count": 7,
   "metadata": {},
   "outputs": [
    {
     "name": "stdout",
     "output_type": "stream",
     "text": [
      "The maximum likelihood estimates are mu=2.483685 and sigma=0.972443\n"
     ]
    },
    {
     "data": {
      "image/png": "[encoded data removed]",
      "text/plain": [
       "<Figure size 432x288 with 1 Axes>"
      ]
     },
     "metadata": {},
     "output_type": "display_data"
    }
   ],
   "source": [
    "ps = np.linspace(0, 1, 100, endpoint=False) \n",
    "quantile_data = quantile(data1.x_3, ps)\n",
    "quantile_norm = stats.norm.ppf(ps)\n",
    "fig, ax = plt.subplots(1, 1)\n",
    "ax.scatter(quantile_norm, quantile_data)\n",
    "ax.set_xlabel(\"Quantile of Gaussian distribution\")\n",
    "ax.set_ylabel(\"Quantile of data distribution\")\n",
    "mean_3 = sum(data1.x_3)/data1.x_3.size\n",
    "std_3 = np.sqrt(sum((data1.x_3-mean_3)**2)/(data1.x_3.size-1))\n",
    "print(\"The maximum likelihood estimates are mu=%f and sigma=%f\"%(mean_3, std_3))"
   ]
  },
  {
   "cell_type": "markdown",
   "metadata": {},
   "source": [
    "## Problem 2"
   ]
  },
  {
   "cell_type": "markdown",
   "metadata": {},
   "source": [
    "### Question 2.1"
   ]
  },
  {
   "cell_type": "code",
   "execution_count": 8,
   "metadata": {},
   "outputs": [],
   "source": [
    "# You should have the code for this question from assignment 1\n",
    "def hist_continuous(x, bin):\n",
    "    step = (x.max() - x.min())/bin\n",
    "    bins = np.arange(x.min(), x.max()+step, step)\n",
    "    freqs = []\n",
    "    for ib in range(1, bins.size):\n",
    "        idx = (x>bins[ib-1]) & (x<=bins[ib])\n",
    "        freqs.append(idx.sum())\n",
    "    freqs[0] += x[x==x.min()].size    \n",
    "    return freqs, bins\n",
    "\n",
    "n_bins = 30\n",
    "freqs, bins = hist_continuous(data1.x_4, n_bins)\n",
    "\n",
    "# For reference\n",
    "freqs_np, bins_np = np.histogram(data1.x_4, n_bins)\n",
    "\n",
    "# Simple test\n",
    "np.testing.assert_almost_equal(freqs, freqs_np)\n",
    "np.testing.assert_almost_equal(bins, bins_np)\n"
   ]
  },
  {
   "cell_type": "markdown",
   "metadata": {},
   "source": [
    "### Question 2.2"
   ]
  },
  {
   "cell_type": "code",
   "execution_count": 9,
   "metadata": {},
   "outputs": [
    {
     "name": "stdout",
     "output_type": "stream",
     "text": [
      "The degrees of freedom is 9.452516\n"
     ]
    },
    {
     "data": {
      "image/png": "[encoded data removed]",
      "text/plain": [
       "<Figure size 432x288 with 1 Axes>"
      ]
     },
     "metadata": {},
     "output_type": "display_data"
    }
   ],
   "source": [
    "x_4_params_chi2 = stats.chi2.fit(data1.x_4, loc=0, scale=1)\n",
    "print(\"The degrees of freedom is %f\"%x_4_params_chi2[0])\n",
    "\n",
    "x = np.linspace(data1.x_4.min(), data1.x_4.max(), 1000)\n",
    "fig, ax = plt.subplots(1, 1)\n",
    "ax.bar(bins[:-1], freqs/sum(freqs), width=(data1.x_4.max()-data1.x_4.min())/n_bins, label=\"Data histogram\")\n",
    "distribution_x_4 = stats.chi2(*x_4_params_chi2)\n",
    "ax.plot(x, distribution_x_4.pdf(x), color=\"red\", label=r\"PDF of $X^2$ distribution\")\n",
    "ax.set_xlabel(\"x_4\")\n",
    "ax.set_ylabel(\"Density\")\n",
    "ax.legend();"
   ]
  },
  {
   "cell_type": "markdown",
   "metadata": {},
   "source": [
    "### Question 2.3"
   ]
  },
  {
   "cell_type": "code",
   "execution_count": 10,
   "metadata": {},
   "outputs": [],
   "source": [
    "def compute_ecdf(x, mode):\n",
    "    x = np.sort(x)\n",
    "    n = x.size\n",
    "    if mode == \"l\":\n",
    "        y = np.arange(0., n)/n\n",
    "    elif mode == \"h\":\n",
    "        y = np.arange(1., n+1)/n    \n",
    "    return x, y\n",
    "\n",
    "sorted_x, ecdf = compute_ecdf(data1.x_4, \"h\")"
   ]
  },
  {
   "cell_type": "markdown",
   "metadata": {},
   "source": [
    "### Question 2.4"
   ]
  },
  {
   "cell_type": "code",
   "execution_count": 11,
   "metadata": {},
   "outputs": [
    {
     "data": {
      "image/png": "[encoded data removed]",
      "text/plain": [
       "<Figure size 432x288 with 1 Axes>"
      ]
     },
     "metadata": {},
     "output_type": "display_data"
    }
   ],
   "source": [
    "chi2_cdf = distribution_x_4.cdf(sorted_x)\n",
    "\n",
    "fig, ax = plt.subplots(1, 1)\n",
    "ax.plot(sorted_x, ecdf, label = \"ecdf\")\n",
    "ax.plot(sorted_x, chi2_cdf, label = r\"CDF of $X^2$\")\n",
    "ax.legend();"
   ]
  },
  {
   "cell_type": "markdown",
   "metadata": {},
   "source": [
    "### Question 2.5"
   ]
  },
  {
   "cell_type": "code",
   "execution_count": 12,
   "metadata": {},
   "outputs": [
    {
     "name": "stdout",
     "output_type": "stream",
     "text": [
      "Rejection region for alpha=0.05 is (0.032629, +infinity)\n"
     ]
    },
    {
     "data": {
      "image/png": "[encoded data removed]",
      "text/plain": [
       "<Figure size 432x288 with 1 Axes>"
      ]
     },
     "metadata": {},
     "output_type": "display_data"
    }
   ],
   "source": [
    "from scipy.stats import kstwo\n",
    "N = data1.shape[0]\n",
    "distribution_ks = kstwo(N)\n",
    "fig, ax = plt.subplots(1, 1)\n",
    "kx = np.linspace(0, 0.1, 100)\n",
    "ax.set_title(\"The PDF of the null distribution\")\n",
    "ax.plot(kx, distribution_ks.pdf(kx))\n",
    "alpha = 0.05\n",
    "rejection_region_005 = distribution_ks.ppf(1-alpha)\n",
    "print(\"Rejection region for alpha=0.05 is (%f, +infinity)\"%rejection_region_005)"
   ]
  },
  {
   "cell_type": "markdown",
   "metadata": {},
   "source": [
    "### Question 2.6"
   ]
  },
  {
   "cell_type": "code",
   "execution_count": 13,
   "metadata": {},
   "outputs": [
    {
     "name": "stdout",
     "output_type": "stream",
     "text": [
      "Test statistic 0.019089370781413262\n",
      "p-value 0.5504501100077585\n",
      "This should be equivalent to: KstestResult(statistic=0.019089370781413262, pvalue=0.5504501100077585)\n",
      "For alpha=0.1, p-value>alpha => fail to reject the null hypothesis\n"
     ]
    }
   ],
   "source": [
    "_, lecdf = compute_ecdf(data1.x_4, \"l\")\n",
    "distribution_chi2_test = stats.chi2(df=10)\n",
    "cdf = distribution_chi2_test.cdf(sorted_x)\n",
    "# It is okay to have D=max(np.abs(ecdf-cdf)) here\n",
    "D = max(np.max(ecdf - cdf), np.max(cdf - lecdf)) # this is to handle the \"discontinuity\" of the ecdf function\n",
    "print(\"Test statistic\", D)\n",
    "print(\"p-value\", distribution_ks.sf(D))\n",
    "print(\"This should be equivalent to:\", stats.kstest(data1.x_4, distribution_chi2_test.cdf))\n",
    "print(\"For alpha=0.1, p-value>alpha => fail to reject the null hypothesis\")"
   ]
  },
  {
   "cell_type": "markdown",
   "metadata": {},
   "source": [
    "### Question 2.7"
   ]
  },
  {
   "cell_type": "code",
   "execution_count": 14,
   "metadata": {},
   "outputs": [
    {
     "name": "stdout",
     "output_type": "stream",
     "text": [
      "Test statistic 0.08312023633110921\n",
      "p-value 8.48212604287841e-11\n",
      "This should be equivalent to: KstestResult(statistic=0.08312023633110921, pvalue=8.48212604287841e-11)\n",
      "For alpha=0.01, p-value<alpha => reject the null hypothesis\n"
     ]
    }
   ],
   "source": [
    "distribution_gaussian_test = stats.norm(loc=10, scale=4)\n",
    "cdf_gaussian = distribution_gaussian_test.cdf(sorted_x)\n",
    "D_gaussian = max(np.max(ecdf - cdf_gaussian), np.max(cdf_gaussian - lecdf))\n",
    "print(\"Test statistic\", D_gaussian)\n",
    "# sf is the same as 1-cdf; numerically, sf is more accurate  \n",
    "print(\"p-value\", distribution_ks.sf(D_gaussian))\n",
    "print(\"This should be equivalent to:\", stats.kstest(data1.x_4, distribution_gaussian_test.cdf))\n",
    "print(\"For alpha=0.01, p-value<alpha => reject the null hypothesis\")\n"
   ]
  },
  {
   "cell_type": "markdown",
   "metadata": {},
   "source": [
    "### Question 2.8"
   ]
  },
  {
   "cell_type": "code",
   "execution_count": 15,
   "metadata": {},
   "outputs": [
    {
     "name": "stdout",
     "output_type": "stream",
     "text": [
      "Similarities: Q-Q plot and KS-test are both used for comparing two distributions\n",
      "Differences: Q-Q plot is a visualization tool for interactive analysis, whereas KS-test is a statstical test from a more well defined framework\n"
     ]
    }
   ],
   "source": [
    "print(\"Similarities: Q-Q plot and KS-test are both used for comparing two distributions\")\n",
    "print(\"Differences: Q-Q plot is a visualization tool for interactive analysis, whereas KS-test is a statstical test from a more well defined framework\")"
   ]
  },
  {
   "cell_type": "markdown",
   "metadata": {},
   "source": [
    "## Problem 3"
   ]
  },
  {
   "cell_type": "code",
   "execution_count": 16,
   "metadata": {},
   "outputs": [],
   "source": [
    "# Prep\n",
    "sigma_control = 27 # known standard deviation \n",
    "# Load data:\n",
    "data3 = pd.read_csv(\"problem3.csv\")\n",
    "control = data3[\"control_group_drivers\"]\n",
    "test_gdb = data3[\"test_drivers_with_green_driving_buddy\"]\n",
    "test_no_gdb = data3[\"test_drivers_without_green_driving_buddy\"]\n",
    "N_control, N_test = control.size, test_gdb.size # in this problem, they have the same size"
   ]
  },
  {
   "cell_type": "markdown",
   "metadata": {},
   "source": [
    "### Question 3.1"
   ]
  },
  {
   "cell_type": "code",
   "execution_count": 17,
   "metadata": {},
   "outputs": [
    {
     "name": "stdout",
     "output_type": "stream",
     "text": [
      "Interval assuming known std (208.06313771393494, 212.82844643846843) (208.06313771393494, 212.82844643846843)\n",
      "Interval assuming unknown std (208.0244179106229, 212.86716624178047) (208.0244179106229, 212.86716624178047)\n"
     ]
    }
   ],
   "source": [
    "# Confidence interval for control mean with significance level 0.01\n",
    "alpha = 0.01\n",
    "# Alternative 1: assume std is known\n",
    "z1 = stats.norm.ppf(1-alpha/2) # standard normal distribution for known std\n",
    "me = z1*sigma_control/np.sqrt(N_control) # margin of error\n",
    "mean_control = control.mean()\n",
    "our_solution_z = (mean_control - me, mean_control + me)\n",
    "\n",
    "# Alternative 2: do not assume std is known\n",
    "t1 = stats.t.ppf(1-alpha/2, df=N_control-1) # student-t distribution for unknown std\n",
    "me = t1*control.std(ddof=1)/np.sqrt(N_control)\n",
    "mean_control = control.mean()\n",
    "our_solution_t = (mean_control - me, mean_control + me)\n",
    "\n",
    "# Python library for reference\n",
    "stats_solution_z = stats.norm.interval(1-alpha, \n",
    "                                       loc=control.mean(), \n",
    "                                       scale=sigma_control/np.sqrt(N_control))\n",
    "\n",
    "stats_solution_t = stats.t.interval(1-alpha, \n",
    "                                    N_control-1, \n",
    "                                    loc=control.mean(), \n",
    "                                    scale=stats.sem(control))\n",
    "print(\"Interval assuming known std\", our_solution_z, stats_solution_z)\n",
    "print(\"Interval assuming unknown std\", our_solution_t, stats_solution_t)"
   ]
  },
  {
   "cell_type": "markdown",
   "metadata": {},
   "source": [
    "### Question 3.2"
   ]
  },
  {
   "cell_type": "code",
   "execution_count": 18,
   "metadata": {},
   "outputs": [
    {
     "name": "stdout",
     "output_type": "stream",
     "text": [
      "Assumptions: sampling distribution (i.e. the distribution of the sample mean) is Gaussian <= large N, i.i.d. sample\n"
     ]
    }
   ],
   "source": [
    "print(\"Assumptions: sampling distribution (i.e. the distribution of the sample mean) is Gaussian <= large N, i.i.d. sample\")"
   ]
  },
  {
   "cell_type": "markdown",
   "metadata": {},
   "source": [
    "### Question 3.3"
   ]
  },
  {
   "cell_type": "code",
   "execution_count": 19,
   "metadata": {},
   "outputs": [
    {
     "name": "stdout",
     "output_type": "stream",
     "text": [
      "Size of confidence intervals: z and t 4.765308724533497 4.842748331157566\n",
      "Either way, there are not enough samples\n",
      "Need at least 1210 samples\n"
     ]
    }
   ],
   "source": [
    "# 3.3: Is the sample size large enough? If not, what is the smallest sample size? \n",
    "l_z = our_solution_z[1] - our_solution_z[0] # assume known std \n",
    "l_t = our_solution_t[1] - our_solution_t[0] # do not assume known std\n",
    "print(\"Size of confidence intervals: z and t\", l_z, l_t)\n",
    "print(\"Either way, there are not enough samples\")\n",
    "# In order to find out the minimum number of samples, we need to assume known standard \n",
    "# deviation for the computation \n",
    "# Derivation: z1*sigma_control/\\sqrt(N) \\leq 2 => N \\geq (z1*sigma_control/2)^2\n",
    "N_min = math.ceil((z1*sigma_control/2)**2)\n",
    "print(\"Need at least %i samples\"%(N_min))"
   ]
  },
  {
   "cell_type": "markdown",
   "metadata": {},
   "source": [
    "### Question 3.4"
   ]
  },
  {
   "cell_type": "code",
   "execution_count": 20,
   "metadata": {},
   "outputs": [
    {
     "name": "stdout",
     "output_type": "stream",
     "text": [
      "Test statistic 1.0726750702115897\n",
      "Two-tailed test p-value: 0.28356913850431775\n",
      "One-tailed test p-value: 0.14178456925215888\n",
      "This shhould be equivalent to the following\n",
      "Two-tailed Ttest_indResult(statistic=1.0726750702115897, pvalue=0.2835691385043177)\n",
      "One-tailed Ttest_indResult(statistic=1.0726750702115897, pvalue=0.14178456925215885)\n",
      "For both the one- and two-tailed tests, we fail to reject the hypothesis given alpha=0.02\n"
     ]
    }
   ],
   "source": [
    "# 3.4: Test difference in the means of control and test_gdb\n",
    "alpha = 0.02\n",
    "t0 = (control.mean() - test_gdb.mean())/np.sqrt(control.std(ddof=1)**2/N_control+test_gdb.std(ddof=1)**2/N_test)\n",
    "df = (control.std(ddof=1)**2/N_control+test_gdb.std(ddof=1)**2/N_test)**2/((control.std(ddof=1)**2/N_control)**2/(N_control-1)+(test_gdb.std(ddof=1)**2/N_test)**2/(N_test-1))\n",
    "dist_null = stats.t(df=df)\n",
    "p_one_tailed = min(dist_null.cdf(t0), 1-dist_null.cdf(t0))\n",
    "p_two_tailed = 2*p_one_tailed\n",
    "print(\"Test statistic\", t0)\n",
    "print(\"Two-tailed test p-value:\", p_two_tailed)\n",
    "print(\"One-tailed test p-value:\", p_one_tailed)\n",
    "print(\"This shhould be equivalent to the following\")\n",
    "print(\"Two-tailed\", stats.ttest_ind(control, test_gdb, equal_var=False))\n",
    "print(\"One-tailed\", stats.ttest_ind(control, test_gdb, alternative=\"greater\", equal_var=False))\n",
    "print(\"For both the one- and two-tailed tests, we fail to reject the hypothesis given alpha=0.02\")"
   ]
  },
  {
   "cell_type": "markdown",
   "metadata": {},
   "source": [
    "### Question 3.5"
   ]
  },
  {
   "cell_type": "code",
   "execution_count": 21,
   "metadata": {},
   "outputs": [
    {
     "name": "stdout",
     "output_type": "stream",
     "text": [
      "Test statistic, p-value 17.844803147000682 9.52490724022833e-61\n",
      "Ttest_relResult(statistic=17.844803147000682, pvalue=9.52490724022833e-61)\n"
     ]
    }
   ],
   "source": [
    "# 3.5: Paired t-test\n",
    "mxy = (test_no_gdb-test_gdb).mean()\n",
    "sxy = (test_no_gdb-test_gdb).std(ddof=1)\n",
    "tp = mxy/(sxy/(N_test**(1/2)))\n",
    "print(\"Test statistic, p-value\", tp, 2*min(stats.t.cdf(tp, df=N_test-1), stats.t.sf(tp, df = N_test-1)))\n",
    "print(stats.ttest_rel(test_no_gdb, test_gdb))"
   ]
  },
  {
   "cell_type": "markdown",
   "metadata": {},
   "source": [
    "### Question 3.6"
   ]
  },
  {
   "cell_type": "code",
   "execution_count": 22,
   "metadata": {},
   "outputs": [
    {
     "name": "stdout",
     "output_type": "stream",
     "text": [
      "n00=100, n01=3, n10=33, n11=716\n",
      "--- Exact McNemars test ---\n",
      "pvalue is 0.000000\n",
      "Test statistic 3.000000\n",
      "This should be equivalent to:\n",
      "pvalue      2.2721360437571997e-07\n",
      "statistic   3.0\n",
      "--- Approximate McNemars test ---\n",
      "pvalue is 0.000001\n",
      "Test statistic 23.361111\n",
      "This should be equivalent to:\n",
      "pvalue      1.3426569116181885e-06\n",
      "statistic   23.36111111111111\n",
      "p-value<alpha for alpha=0.020000, we reject the null hypothesis\n",
      "We use the McNemar's test because the sample space contains binary outcomes from paired data\n"
     ]
    }
   ],
   "source": [
    "# 3.6: McNemar's test\n",
    "from statsmodels.stats.contingency_tables import mcnemar # for reference\n",
    "# ----------------------------------------\n",
    "#            | before eco |  before high |\n",
    "# ----------------------------------------\n",
    "# after eco  | n00        |   n10        |\n",
    "# ----------------------------------------\n",
    "# after high | n01        |   n11        |\n",
    "# ----------------------------------------\n",
    "alpha = 0.02\n",
    "eco_threshold = 180\n",
    "n00 = ((test_no_gdb<eco_threshold) & (test_gdb<eco_threshold)).sum()\n",
    "n01 = ((test_no_gdb<eco_threshold) & (test_gdb>=eco_threshold)).sum()\n",
    "n10 = ((test_no_gdb>=eco_threshold) & (test_gdb<eco_threshold)).sum()\n",
    "n11 = ((test_no_gdb>=eco_threshold) & (test_gdb>=eco_threshold)).sum()\n",
    "print(\"n00=%i, n01=%i, n10=%i, n11=%i\"%(n00, n01, n10, n11))\n",
    "print(\"--- Exact McNemars test ---\")\n",
    "s_exact = min(n01, n10)\n",
    "p_exact = 2*stats.binom.cdf(s_exact, n01 + n10 , 0.5)\n",
    "print(\"pvalue is %f\"% (p_exact))\n",
    "print(\"Test statistic %f\"% (s_exact))\n",
    "print(\"This should be equivalent to:\")\n",
    "mcnemar_exct = mcnemar([[n00, n10],[n01, n11]], exact=True)\n",
    "print(mcnemar_exct)\n",
    "print(\"--- Approximate McNemars test ---\")\n",
    "s_approx = (np.abs(n01-n10)-1)**2/(n01+n10)\n",
    "p_approx = stats.chi2.sf(s_approx, df=1)\n",
    "print(\"pvalue is %f\"% (p_approx))\n",
    "print(\"Test statistic %f\"% (s_approx))\n",
    "print(\"This should be equivalent to:\")\n",
    "mcnemar_approx = mcnemar([[n00, n10],[n01, n11]], exact=False)\n",
    "print(mcnemar_approx)\n",
    "print(\"p-value<alpha for alpha=%f, we reject the null hypothesis\"%alpha)\n",
    "print(\"We use the McNemar's test because the sample space contains binary outcomes from paired data\")"
   ]
  },
  {
   "cell_type": "markdown",
   "metadata": {},
   "source": [
    "### Question 3.7"
   ]
  },
  {
   "cell_type": "code",
   "execution_count": 23,
   "metadata": {},
   "outputs": [
    {
     "name": "stdout",
     "output_type": "stream",
     "text": [
      "This is only a suggested answer; you can be creative with the suggestions!\n",
      "We wouldn't recommend the company to release the product since we have discrepancy between the paired tests and the two-sample t-test\n",
      "To improve the conclusion, we could collect more data, design a more comprehensive experiment and conduct different types of analysis on the data\n"
     ]
    }
   ],
   "source": [
    "print(\"This is only a suggested answer; you can be creative with the suggestions!\")\n",
    "print(\"We wouldn't recommend the company to release the product since we have discrepancy between the paired tests and the two-sample t-test\")\n",
    "print(\"To improve the conclusion, we could collect more data, design a more comprehensive experiment and conduct different types of analysis on the data\")"
   ]
  },
  {
   "cell_type": "markdown",
   "metadata": {},
   "source": [
    "## Problem 4"
   ]
  },
  {
   "cell_type": "markdown",
   "metadata": {},
   "source": [
    "### Question 4.1"
   ]
  },
  {
   "cell_type": "code",
   "execution_count": 24,
   "metadata": {},
   "outputs": [
    {
     "name": "stdout",
     "output_type": "stream",
     "text": [
      "We do not need the alternative hypothesis to know the significance level\n",
      "The significance level is the type I error set by the requirement\n",
      "It is only related to the null hypothesis/distribution\n"
     ]
    }
   ],
   "source": [
    "print(\"We do not need the alternative hypothesis to know the significance level\") \n",
    "print(\"The significance level is the type I error set by the requirement\")\n",
    "print(\"It is only related to the null hypothesis/distribution\")"
   ]
  },
  {
   "cell_type": "code",
   "execution_count": 25,
   "metadata": {},
   "outputs": [
    {
     "name": "stdout",
     "output_type": "stream",
     "text": [
      "For the left one-tailed test, the rejection region is computed by (-infinity, stats.t.ppf(alpha))\n",
      "For the right one-tailed test, the rejection region is computed by (stats.t.ppf(1-alpha), +infinity)\n"
     ]
    }
   ],
   "source": [
    "print(\"For the left one-tailed test, the rejection region is computed by (-infinity, stats.t.ppf(alpha))\")\n",
    "print(\"For the right one-tailed test, the rejection region is computed by (stats.t.ppf(1-alpha), +infinity)\")"
   ]
  },
  {
   "cell_type": "markdown",
   "metadata": {},
   "source": [
    "### Question 4.2"
   ]
  },
  {
   "cell_type": "code",
   "execution_count": 26,
   "metadata": {},
   "outputs": [
    {
     "name": "stdout",
     "output_type": "stream",
     "text": [
      "     age     weight  drug_effect\n",
      "0     48  54.647811    effective\n",
      "1     38  76.590527    effective\n",
      "2     30  39.882441    effective\n",
      "3     41  78.005252    effective\n",
      "4     50  59.297092    effective\n",
      "..   ...        ...          ...\n",
      "186   37  68.672987    effective\n",
      "187   25  66.662402    effective\n",
      "188   45  64.915007    effective\n",
      "189   28  52.675539    effective\n",
      "190   26  55.208658  ineffective\n",
      "\n",
      "[191 rows x 3 columns]\n",
      "It is a data set built for classification because the labels are given\n",
      "There are 143 effective cases and 48 ineffective cases\n",
      "It is an imbalanced data set so we should not use a metric such as the accuracy\n",
      "We can use the F1 score\n",
      "We can set up two classifiers from the sklearn library\n"
     ]
    }
   ],
   "source": [
    "data4 = pd.read_csv(\"problem4.csv\")\n",
    "print(data4)\n",
    "print(\"It is a data set built for classification because the labels are given\")\n",
    "x = np.stack([data4[\"age\"], data4[\"weight\"]]).T\n",
    "y = data4.drug_effect\n",
    "N = x.shape[0]\n",
    "print(\"There are %i effective cases and %i ineffective cases\"%(sum(y==\"effective\"), sum(y==\"ineffective\")))\n",
    "print(\"It is an imbalanced data set so we should not use a metric such as the accuracy\")\n",
    "print(\"We can use the F1 score\")\n",
    "print(\"We can set up two classifiers from the sklearn library\")\n",
    "from sklearn.neighbors import KNeighborsClassifier\n",
    "from sklearn.naive_bayes import GaussianNB\n",
    "m1 = KNeighborsClassifier(5)\n",
    "m2 = GaussianNB()"
   ]
  },
  {
   "cell_type": "markdown",
   "metadata": {},
   "source": [
    "### Question 4.3"
   ]
  },
  {
   "cell_type": "code",
   "execution_count": 27,
   "metadata": {},
   "outputs": [
    {
     "name": "stdout",
     "output_type": "stream",
     "text": [
      "Yes it could be a good choice since there are not that many data ponts in the sample\n",
      "There are only 48 ineffective cases, if you use other types of validation methods, the ineffective cases will become extremely rare\n",
      "K-nearest neibours (K=5) 0.625\n",
      "Naive Bayes F1 score 0.6666666666666666\n",
      "when using the F1 score, a good practice is to set the class with the highest 'cost' (as in if you get it wrong, it will be very bad) to be the 'positive' class (in this case, it would be the ineffective class)\n",
      "But for the exam, you can also use the 'effective' as the positive class; then the F1 score will be around 0.91\n"
     ]
    }
   ],
   "source": [
    "# You should have the code for this part from the project and assignment 2\n",
    "def f1(true, pred, p=True, n=False): \n",
    "    idx_p = true==p\n",
    "    idx_f = true==n\n",
    "    TP = sum(np.asarray(pred)[idx_p]==p)\n",
    "    TN = sum(np.asarray(pred)[idx_f]==n)\n",
    "    FP = sum(np.asarray(pred)[idx_f]==p)\n",
    "    FN = sum(np.asarray(pred)[idx_p]==n)\n",
    "    precision = TP/(TP+FP)\n",
    "    recall = TP/(TP+FN)\n",
    "    return 2*(precision*recall)/(precision+recall)\n",
    "\n",
    "print(\"Yes it could be a good choice since there are not that many data ponts in the sample\")\n",
    "print(\"There are only 48 ineffective cases, if you use other types of validation methods, the ineffective cases will become extremely rare\")\n",
    "\n",
    "val_m1 = []\n",
    "val_m2 = []\n",
    "for i in range(N):\n",
    "    x_val, y_val = x[i, :], y[i]\n",
    "    idx_train = np.hstack((np.arange(0,i), np.arange(i+1,N)))                         \n",
    "    x_train, y_train = x[idx_train, :], y[idx_train]\n",
    "    m1.fit(x_train, y_train)\n",
    "    m2.fit(x_train, y_train)\n",
    "    val_m1.append(m1.predict([x_val])[0])\n",
    "    val_m2.append(m2.predict([x_val])[0])\n",
    "\n",
    "print(\"K-nearest neibours (K=5)\", f1(y, val_m1, p=\"ineffective\", n=\"effective\"))\n",
    "print(\"Naive Bayes F1 score\", f1(y, val_m2, p=\"ineffective\", n=\"effective\"))\n",
    "print(\"when using the F1 score, a good practice is to set the class with the highest 'cost' (as in if you get it wrong, it will be very bad) to be the 'positive' class (in this case, it would be the ineffective class)\")\n",
    "print(\"But for the exam, you can also use the 'effective' as the positive class; then the F1 score will be around 0.91\")"
   ]
  },
  {
   "cell_type": "markdown",
   "metadata": {},
   "source": [
    "### Question 4.4"
   ]
  },
  {
   "cell_type": "code",
   "execution_count": 28,
   "metadata": {},
   "outputs": [
    {
     "name": "stdout",
     "output_type": "stream",
     "text": [
      "We can use McNemar's test to compare these two classifiers\n"
     ]
    }
   ],
   "source": [
    "print(\"We can use McNemar's test to compare these two classifiers\")"
   ]
  },
  {
   "cell_type": "markdown",
   "metadata": {},
   "source": [
    "## Question 5"
   ]
  },
  {
   "cell_type": "code",
   "execution_count": 29,
   "metadata": {},
   "outputs": [],
   "source": [
    "df = pd.read_csv(\"problem5.csv\")\n",
    "df_val = pd.read_csv(\"problem5_validation.csv\")"
   ]
  },
  {
   "cell_type": "markdown",
   "metadata": {},
   "source": [
    "### Problem 5.1"
   ]
  },
  {
   "cell_type": "code",
   "execution_count": 30,
   "metadata": {},
   "outputs": [
    {
     "name": "stdout",
     "output_type": "stream",
     "text": [
      "coninuous, continuous, discrete, nominal\n"
     ]
    }
   ],
   "source": [
    "print(\"coninuous, continuous, discrete, nominal\")"
   ]
  },
  {
   "cell_type": "markdown",
   "metadata": {},
   "source": [
    "### Problem 5.2"
   ]
  },
  {
   "cell_type": "code",
   "execution_count": 31,
   "metadata": {},
   "outputs": [
    {
     "name": "stdout",
     "output_type": "stream",
     "text": [
      "----------------------\n",
      "Estimated parameters\n",
      "{False: {'fuel_cost': (<function gaussian at 0x7f6ac50fe670>,\n",
      "                       (4.993306212781814, 2.754223662626925)),\n",
      "         'income': (<function gaussian at 0x7f6ac50fe670>,\n",
      "                    (53.46274134061514, 8.210872288083078)),\n",
      "         'number_of_pets': (<function binomial at 0x7f6ac50fe700>,\n",
      "                            (9, 0.5590174744477415)),\n",
      "         'sex': (<function categorical at 0x7f6ac50fe790>,\n",
      "                 ([0.41802067946824223,\n",
      "                   0.3766617429837518,\n",
      "                   0.20531757754800592],\n",
      "                  array(['female', 'male', 'other'], dtype=object)))},\n",
      " True: {'fuel_cost': (<function gaussian at 0x7f6ac50fe670>,\n",
      "                      (5.946776764102649, 2.920864228022427)),\n",
      "        'income': (<function gaussian at 0x7f6ac50fe670>,\n",
      "                   (45.78597620183388, 9.66575114865832)),\n",
      "        'number_of_pets': (<function binomial at 0x7f6ac50fe700>,\n",
      "                           (4, 0.251779359430605)),\n",
      "        'sex': (<function categorical at 0x7f6ac50fe790>,\n",
      "                ([0.3752212389380531, 0.3929203539823009, 0.23185840707964603],\n",
      "                 array(['female', 'male', 'other'], dtype=object)))}}\n",
      "{False: 0.5453074433656958, True: 0.4546925566343042}\n",
      "----------------------\n",
      "F1 score is: 0.9547738693467337\n"
     ]
    }
   ],
   "source": [
    "# 5.2 (6 pt):\n",
    "# You have implemented the multinomial naive Bayes and the Gaussian naive Bayes in assignment 2, and \n",
    "# the modified naive Bayes classifiers in the example questions. In this problem,\n",
    "# we have one dimenion modified into a discrete distribution (where the expressions \n",
    "# for the parameter estimation are given), but the principle is the same here. \n",
    "features = [\"income\", \"fuel_cost\", \"number_of_pets\", \"sex\"]\n",
    "target = \"vegetarian\"\n",
    "alpha = 1 # same as in multinomial naive Bayes; it is not necessary here.\n",
    "\n",
    "def str_to_onehot(x, cats):\n",
    "    oh = np.zeros_like(cats)\n",
    "    oh[cats==x] = 1\n",
    "    return oh\n",
    "\n",
    "\n",
    "def gaussian(x, params):\n",
    "    f = stats.norm(*params).pdf(x)\n",
    "    return f \n",
    "\n",
    "\n",
    "def binomial(x, params): # for \"number of pets\"\n",
    "    p = stats.binom(n=params[0], p=params[1]).pmf(x) \n",
    "    return p\n",
    "\n",
    "\n",
    "def categorical(x, params): # for \"sex\"\n",
    "    ps = params[0]\n",
    "    categories = params[1]\n",
    "    p = stats.multinomial(p=ps, n=1).pmf(str_to_onehot(x, categories))\n",
    "    return p\n",
    "\n",
    "\n",
    "def train_nb(df, features, target, dists=\"normal\"):\n",
    "    \"\"\"This function estimates the parameters for the naive Bayes classifier    \n",
    "    \"\"\"\n",
    "    d = len(features)\n",
    "    if not isinstance(dists, list):\n",
    "        dists = [dists]*d\n",
    "    elif len(dists)!=d:\n",
    "        raise Exception(\"distribution has to have the same length as d\")\n",
    "        \n",
    "    estimates = dict()\n",
    "    pc = dict()\n",
    "    ys = df[target].unique()\n",
    "    for _y in ys:\n",
    "        idx = df[\"vegetarian\"]==_y\n",
    "        pc[_y] = df[\"vegetarian\"][idx].size/df[\"vegetarian\"].size\n",
    "        _dists = dict()\n",
    "        for i, feature in enumerate(features):       \n",
    "            if dists[i] == \"normal\":\n",
    "                params = stats.norm.fit(df[feature][idx])\n",
    "                _dist = gaussian\n",
    "\n",
    "            elif dists[i] == \"binomial\":\n",
    "                n = df[feature][idx].max()\n",
    "                p = df[feature][idx].mean()\n",
    "                params = (n, p/n)\n",
    "                _dist = binomial\n",
    "            elif dists[i] == \"categorical\":\n",
    "                categories = np.unique(df[feature][idx])\n",
    "                ps = []\n",
    "                n_cat = df[feature][idx].unique().size\n",
    "                for category in categories:\n",
    "                    _count = sum(df[feature][idx]==category)+alpha # alpha is global\n",
    "                    ps.append(_count/(sum(idx) + alpha*n_cat))  \n",
    "                params = (ps, categories)    \n",
    "                _dist = categorical                  \n",
    "            else: \n",
    "                raise Exception(\"Distribution %s not implemented\"%dists[i])\n",
    "            _dists[feature] = (_dist, params)\n",
    "        estimates[_y] = _dists\n",
    "    return pc, estimates, ys\n",
    "\n",
    "\n",
    "def inference(df, ys, features, target, params, pc):\n",
    "    _py = []  \n",
    "    for _y in ys:       \n",
    "        posterior = pc[_y]\n",
    "        for i, feature in enumerate(features): \n",
    "            posterior*=params[_y][feature][0](df[feature], params[_y][feature][1])\n",
    "        _py.append(posterior)\n",
    "    pred = ys[np.argmax(_py)]\n",
    "    prob = _py/sum(_py)\n",
    "    return prob, pred\n",
    "          \n",
    "    \n",
    "pc, params, ys = train_nb(df, features, target, dists=[\"normal\", \"normal\", \"binomial\", \"categorical\"])\n",
    "our_pred = []\n",
    "our_prob = []\n",
    "\n",
    "for index, x_val in df_val.iterrows():\n",
    "    score, pred = inference(x_val, ys, features, target, params, pc)\n",
    "    our_pred.append(pred)    \n",
    "    our_prob.append(score)\n",
    "print(\"----------------------\")    \n",
    "print(\"Estimated parameters\")\n",
    "pprint(params)\n",
    "pprint(pc)\n",
    "\n",
    "print(\"----------------------\")    \n",
    "F1 = f1(df_val[\"vegetarian\"], our_pred)\n",
    "print(\"F1 score is:\", F1)\n"
   ]
  },
  {
   "cell_type": "markdown",
   "metadata": {},
   "source": [
    "### Problem 6"
   ]
  },
  {
   "cell_type": "code",
   "execution_count": 32,
   "metadata": {},
   "outputs": [
    {
     "data": {
      "image/png": "[encoded data removed]",
      "text/plain": [
       "<Figure size 600x400 with 1 Axes>"
      ]
     },
     "metadata": {},
     "output_type": "display_data"
    }
   ],
   "source": [
    "df = pd.read_csv(\"problem6.csv\")\n",
    "fig, ax = plt.subplots(1, 1, figsize=(6,4), dpi= 100) \n",
    "x = df[\"x\"]\n",
    "ax.hist(x, bins=100)\n",
    "dist1 = stats.norm(loc=5.4, scale=1.4)\n",
    "dist2 = stats.norm(loc=10.2, scale=1.8)\n",
    "dist3 = stats.gamma(a=1, scale=1)\n",
    "dist4 = stats.chi2(df=22)\n",
    "dists = [dist1, dist2, dist3, dist4]\n",
    "pis = np.asarray([0.25, 0.15, 0.4, 0.2]);"
   ]
  },
  {
   "cell_type": "markdown",
   "metadata": {},
   "source": [
    "### Question 6.1"
   ]
  },
  {
   "cell_type": "code",
   "execution_count": 33,
   "metadata": {},
   "outputs": [
    {
     "name": "stdout",
     "output_type": "stream",
     "text": [
      "Log likelihood of each component -27258.13337829568 -17399.620975891412 -9899.04772465803 -18915.689711045896\n"
     ]
    }
   ],
   "source": [
    "# 6.1 Compute the log likelihood of each component given the data set\n",
    "L1 = dist1.logpdf(x).sum()\n",
    "L2 = dist2.logpdf(x).sum()\n",
    "L3 = dist3.logpdf(x).sum()\n",
    "L4 = dist4.logpdf(x).sum()\n",
    "print(\"Log likelihood of each component\", L1, L2, L3, L4)"
   ]
  },
  {
   "cell_type": "markdown",
   "metadata": {},
   "source": [
    "### Question 6.2"
   ]
  },
  {
   "cell_type": "code",
   "execution_count": 34,
   "metadata": {},
   "outputs": [
    {
     "name": "stdout",
     "output_type": "stream",
     "text": [
      "Log likelihood of the mixture distribution -3735.8887937502027\n"
     ]
    }
   ],
   "source": [
    "# 6.2 Compute the log likelihood of the mixture distribution given the data set\n",
    "def mixture_loglikelihood(x, dists, pis):\n",
    "    return np.log(np.vectorize(lambda t: np.asarray([pis[k]*dist.pdf(t) for k, dist in enumerate(dists)]).sum())(x)).sum()\n",
    "\n",
    "L = mixture_loglikelihood(x, dists, pis)    \n",
    "print(\"Log likelihood of the mixture distribution\", L)"
   ]
  },
  {
   "cell_type": "markdown",
   "metadata": {},
   "source": [
    "### Question 6.3"
   ]
  },
  {
   "cell_type": "code",
   "execution_count": 35,
   "metadata": {},
   "outputs": [
    {
     "name": "stdout",
     "output_type": "stream",
     "text": [
      "Data points in each cluster: [311, 232, 490, 233]\n"
     ]
    }
   ],
   "source": [
    "# 6.3 Find an optimal cluster for each data point in the data set using the maximum a posteriori estimation method\n",
    "def pi_loglikelihood(x, dists, pis):\n",
    "    return np.asarray([pis[i]+dist.logpdf(x) for i, dist in enumerate(dists)]).T\n",
    "\n",
    "pl = pi_loglikelihood(x, dists, pis)\n",
    "clusters = pl.argmax(axis=1)\n",
    "n_x_clusters = []\n",
    "for i in range(4):\n",
    "    n_x_clusters.append(sum(clusters==i))\n",
    "print(\"Data points in each cluster:\", n_x_clusters)"
   ]
  },
  {
   "cell_type": "markdown",
   "metadata": {},
   "source": [
    "### Question 6.4"
   ]
  },
  {
   "cell_type": "code",
   "execution_count": 36,
   "metadata": {},
   "outputs": [
    {
     "name": "stdout",
     "output_type": "stream",
     "text": [
      "Posterior for component 1: 1.0\n",
      "Posterior for component 2: 0.0\n",
      "Posterior for component 3: 0.0\n",
      "Posterior for component 4: 0.0\n"
     ]
    }
   ],
   "source": [
    "# 6.4 Given the clusters estimated from question 6.3, compute the posterior of each component \n",
    "# given all data points associated with cluster 1\n",
    "x_cluster1 = x[clusters==0]\n",
    "\n",
    "def mixture_likelihood(x, dists, pis):\n",
    "    return (np.vectorize(lambda t: np.asarray([pis[k]*dist.pdf(t) for k, dist in enumerate(dists)]).sum())(x)).prod()\n",
    "\n",
    "\n",
    "def pi_likelihoods(x, dists, pis):\n",
    "    return np.asarray([pis[i]*dist.pdf(x).prod() for i, dist in enumerate(dists)])\n",
    "\n",
    "\n",
    "pi_likelihood_cluster1 = pi_likelihoods(x_cluster1, dists, pis)\n",
    "\n",
    "__pis = []\n",
    "normalization_constant = pi_likelihood_cluster1.sum()\n",
    "for i in range(4): # for each component      \n",
    "    print(\"Posterior for component %i:\"%(i+1), pi_likelihood_cluster1[i]/normalization_constant)"
   ]
  },
  {
   "cell_type": "markdown",
   "metadata": {},
   "source": [
    "### Question 6.5"
   ]
  },
  {
   "cell_type": "code",
   "execution_count": 37,
   "metadata": {},
   "outputs": [
    {
     "name": "stdout",
     "output_type": "stream",
     "text": [
      "From the Q-Q plot, we conclude that they are not from the same family of distributions\n"
     ]
    },
    {
     "data": {
      "image/png": "[encoded data removed]",
      "text/plain": [
       "<Figure size 432x288 with 1 Axes>"
      ]
     },
     "metadata": {},
     "output_type": "display_data"
    }
   ],
   "source": [
    "ps = np.linspace(0, 1, 100, endpoint=False) \n",
    "x_cluster2 = x[clusters==1]\n",
    "x_cluster3 = x[clusters==2]\n",
    "q_2 = np.quantile(x_cluster2, ps)\n",
    "q_3 = np.quantile(x_cluster3, ps)\n",
    "fig, ax = plt.subplots(1, 1)\n",
    "ax.scatter(q_2, q_3)\n",
    "print(\"From the Q-Q plot, we conclude that they are not from the same family of distributions\")"
   ]
  },
  {
   "cell_type": "markdown",
   "metadata": {},
   "source": [
    "### Question 6.6"
   ]
  },
  {
   "cell_type": "code",
   "execution_count": 38,
   "metadata": {},
   "outputs": [
    {
     "name": "stdout",
     "output_type": "stream",
     "text": [
      "Iteration 500: -16597.91576185692 -3815.51898479026\n",
      "Iteration 1000: -3815.51898479026 -3815.4327593655803\n",
      "Iteration 1500: -3815.4327593655803 -3815.372820859192\n",
      "Iteration 2000: -3815.372820859192 -3815.3694934959626\n",
      "Iteration 2500: -3815.3694934959626 -3815.3694627715954\n",
      "Iteration 3000: -3815.3694627715954 -3815.369462549782\n",
      "Iteration 3500: -3815.369462549782 -3815.369462548214\n",
      "Converged around 3500 iterations\n",
      "means: [0.6462897912119343, 3.7861651541059365, 8.223535203113126, 20.793919976719945]\n",
      "stand deviations: [0.47224885 1.81355222 2.73043012 8.15260877]\n",
      "pis [0.30495243 0.19667686 0.27729193 0.22107878]\n",
      "likelihood -3815.369462548214\n",
      "It is smaller than the theoretical likelihood due to the inaccurate assumption of the distributions and limited data points available for the estimations\n"
     ]
    }
   ],
   "source": [
    "def pi_likelihood(x, dists, pis):\n",
    "    return np.asarray([pis[i]*dist.pdf(x) for i, dist in enumerate(dists)]).T\n",
    "\n",
    "# This is essentially the same as the K-means from assignment 3; the update steps (E and M steps) need to be modified   \n",
    "init_mus = [0, 5, 10, 15]    \n",
    "def EM(x, K, max_itr=5000, init_mus=None):\n",
    "    if init_mus:\n",
    "        mus = init_mus\n",
    "    else:\n",
    "        mus = [x.min()+i/(K+1)*(x.max()-x.min()) for i in range(K)]\n",
    "    stds = np.ones(K)\n",
    "    pis = 1/K*np.ones(K)\n",
    "    N = x.size\n",
    "    dists = []\n",
    "    for k in range(K): \n",
    "        dists.append(stats.norm(loc=mus[k], scale=stds[k]))    \n",
    "    prev_likelihood = mixture_loglikelihood(x, dists, pis)\n",
    "    for i in range(max_itr):\n",
    "        pl = pi_likelihood(x, dists, pis)\n",
    "        for k in range(K): \n",
    "            gamma_k = np.divide(pl[:, k], pl.sum(axis=1))\n",
    "            N_k = gamma_k.sum()\n",
    "            pis[k] = N_k/N \n",
    "            mus[k] = 1/(N_k)*(gamma_k*x).sum()\n",
    "            stds[k] = np.sqrt(1/(N_k)*(gamma_k*(x-mus[k])**2).sum())\n",
    "            dists[k] = stats.norm(loc=mus[k], scale=stds[k])\n",
    "            \n",
    "        if i%500==0 and i!=0:\n",
    "            likelihood = mixture_loglikelihood(x, dists, pis)\n",
    "            print(\"Iteration %i:\"%i, prev_likelihood, likelihood)\n",
    "            if abs(likelihood - prev_likelihood)<=1e-8:\n",
    "                print(\"Converged around %i iterations\"%i)\n",
    "                break             \n",
    "            prev_likelihood = likelihood    \n",
    "           \n",
    "    return mus, stds, pis, likelihood\n",
    "mus, stds, pis, likelihood = EM(x, 4, init_mus=init_mus)\n",
    "print(\"means:\", mus)\n",
    "print(\"stand deviations:\", stds)\n",
    "print(\"pis\", pis)\n",
    "print(\"likelihood\", likelihood)\n",
    "print(\"It is smaller than the theoretical likelihood due to the inaccurate assumption of the distributions and limited data points available for the estimations\")\n",
    "\n"
   ]
  }
 ],
 "metadata": {
  "kernelspec": {
   "display_name": "Python 3",
   "language": "python",
   "name": "python3"
  },
  "language_info": {
   "codemirror_mode": {
    "name": "ipython",
    "version": 3
   },
   "file_extension": ".py",
   "mimetype": "text/x-python",
   "name": "python",
   "nbconvert_exporter": "python",
   "pygments_lexer": "ipython3",
   "version": "3.8.5"
  }
 },
 "nbformat": 4,
 "nbformat_minor": 4
}
